{
 "cells": [
  {
   "cell_type": "code",
   "execution_count": 913,
   "id": "cfc49c99",
   "metadata": {},
   "outputs": [
    {
     "name": "stdout",
     "output_type": "stream",
     "text": [
      "日本\n",
      "静岡県\n",
      "数学\n",
      "プログラミング\n",
      "経済\n",
      "小説\n",
      "ローマ\n"
     ]
    }
   ],
   "source": [
    "# Get data\n",
    "\n",
    "import wikipedia\n",
    "wikipedia.set_lang(\"ja\")\n",
    "\n",
    "list_w = ['日本', '静岡県', '数学', 'プログラミング', '経済', '小説', 'ローマ']\n",
    "\n",
    "content_list = []\n",
    "for wd in list_w :\n",
    "    print(wd)\n",
    "    content = wikipedia.page(wd, auto_suggest=False).content\n",
    "    content_list.append(content)"
   ]
  },
  {
   "cell_type": "code",
   "execution_count": 914,
   "id": "119e9ffc",
   "metadata": {},
   "outputs": [],
   "source": [
    "# 形態素解析\n",
    "from janome.tokenizer import Tokenizer\n",
    "t = Tokenizer()\n",
    "\n",
    "def tokenize(text,partof) :\n",
    "    return [token.base_form for token in t.tokenize(text)if token.part_of_speech.split(',')[0] in [partof]]"
   ]
  },
  {
   "cell_type": "code",
   "execution_count": 929,
   "id": "8bb069a9",
   "metadata": {},
   "outputs": [],
   "source": [
    "import re\n",
    "words_list = []\n",
    "words_list1=[]\n",
    "rm_list = ['==', '=', '。', '-', '.', '_', ':', ';', '±', '/', '_','％', '%', '」' , '「', '(', ')' ]\n",
    "for content in content_list : \n",
    "    words = ' '.join(tokenize(content,\"形容詞\"))\n",
    "    words1= ' '.join(tokenize(content,\"名詞\"))   \n",
    "    for i in rm_list :\n",
    "        words = words.replace(i, '')\n",
    "        words1 = words1.replace(i, '')\n",
    "    \n",
    "    words = re.sub('\\d+', '',words)\n",
    "    words1 = re.sub('\\d+', '',words1)\n",
    "    words_list.append(words)\n",
    "    words_list1.append(words1)\n",
    "for i in range(len(words_list)) :\n",
    "    wl = words_list[i].split()\n",
    "    wl.append(wl)\n",
    "    \n",
    "for i in range(len(words_list1)) :\n",
    "    wl1 = words_list1[i].split()\n",
    "    wl1.append(wl1)"
   ]
  },
  {
   "cell_type": "code",
   "execution_count": 944,
   "id": "bbb27013",
   "metadata": {},
   "outputs": [
    {
     "name": "stdout",
     "output_type": "stream",
     "text": [
      "数少ない間\n",
      "ない時間\n",
      "おもい形\n",
      "無い大会\n",
      "無い奮起\n",
      "珍しい人\n",
      "ない発生\n",
      "やすい世界\n",
      "無い内外\n",
      "ふさわしいイタリア\n"
     ]
    }
   ],
   "source": [
    "from random import randint\n",
    "#10個ランダムに単語を生成\n",
    "for i in range(10) :\n",
    "    idx = randint(0,len(wl))\n",
    "    #print(wl[idx])\n",
    "\n",
    "word_cnt=[]\n",
    "while(len(word_cnt)!=10):\n",
    "    idx = randint(0,len(wl)-2)\n",
    "    idx1=randint(0,len(wl1)-2)\n",
    "    if wl[idx]!=\"%\" and len(wl[idx])>=2:\n",
    "        if wl1[idx1]!=\"%\" and len(wl1[idx1])>=1:\n",
    "            word_cnt.append(wl[idx]+wl1[idx1])\n",
    "        \n",
    "for i in word_cnt :\n",
    "    print(i)\n"
   ]
  },
  {
   "cell_type": "code",
   "execution_count": null,
   "id": "b854651a",
   "metadata": {},
   "outputs": [],
   "source": []
  }
 ],
 "metadata": {
  "kernelspec": {
   "display_name": "Python 3 (ipykernel)",
   "language": "python",
   "name": "python3"
  },
  "language_info": {
   "codemirror_mode": {
    "name": "ipython",
    "version": 3
   },
   "file_extension": ".py",
   "mimetype": "text/x-python",
   "name": "python",
   "nbconvert_exporter": "python",
   "pygments_lexer": "ipython3",
   "version": "3.9.16"
  }
 },
 "nbformat": 4,
 "nbformat_minor": 5
}
