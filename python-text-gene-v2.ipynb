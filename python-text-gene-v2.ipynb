{
 "cells": [
  {
   "cell_type": "code",
   "execution_count": 1,
   "id": "66a1305f",
   "metadata": {},
   "outputs": [],
   "source": [
    "import pykakasi"
   ]
  },
  {
   "cell_type": "code",
   "execution_count": 2,
   "id": "77ce72c3",
   "metadata": {},
   "outputs": [],
   "source": [
    "kks = pykakasi.kakasi()\n",
    "\n",
    "def get_text(path) :\n",
    "    with open(path, 'r') as f :\n",
    "        res = f.read()\n",
    "    return res\n",
    "\n",
    "def convert_text (path) :\n",
    "    text = get_text(path)\n",
    "    res = kks.convert(text)\n",
    "    res_converted = ''.join(item['hira'] for item in res)\n",
    "    return res_converted\n",
    "\n",
    "def write_file(obj, filename) :\n",
    "    with open(filename, 'w') as f:\n",
    "        f.write(obj)\n",
    "    print(f'{filename}への書き込みは成功しました')"
   ]
  },
  {
   "cell_type": "code",
   "execution_count": null,
   "id": "49027af1",
   "metadata": {},
   "outputs": [],
   "source": [
    "res_noun = convert_text('./Noun.txt')\n",
    "res_adjective = convert_text('./Adjective.txt')\n",
    "write_file(res_noun, 'Noun_hira.txt')\n",
    "write_file(res_adjective, 'Adjective_hira.txt')"
   ]
  },
  {
   "cell_type": "code",
   "execution_count": null,
   "id": "658d34e7",
   "metadata": {},
   "outputs": [],
   "source": []
  }
 ],
 "metadata": {
  "kernelspec": {
   "display_name": "Python 3 (ipykernel)",
   "language": "python",
   "name": "python3"
  },
  "language_info": {
   "codemirror_mode": {
    "name": "ipython",
    "version": 3
   },
   "file_extension": ".py",
   "mimetype": "text/x-python",
   "name": "python",
   "nbconvert_exporter": "python",
   "pygments_lexer": "ipython3",
   "version": "3.9.16"
  }
 },
 "nbformat": 4,
 "nbformat_minor": 5
}
