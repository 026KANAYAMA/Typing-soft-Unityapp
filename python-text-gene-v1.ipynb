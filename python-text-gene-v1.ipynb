{
 "cells": [
  {
   "cell_type": "code",
   "execution_count": 1,
   "id": "cfc49c99",
   "metadata": {},
   "outputs": [
    {
     "name": "stdout",
     "output_type": "stream",
     "text": [
      "パソコン\n",
      "インターネット\n",
      "人工知能\n",
      "windows\n",
      "Microsoft\n",
      "NTT\n",
      "ビルゲイツ\n",
      "自然言語処理\n"
     ]
    }
   ],
   "source": [
    "# データ取得\n",
    "import wikipedia\n",
    "wikipedia.set_lang(\"ja\")\n",
    "\n",
    "list_w = ['パソコン', 'インターネット', '人工知能', 'windows', 'Microsoft', 'NTT', 'ビルゲイツ', '自然言語処理']\n",
    "\n",
    "content_list = []\n",
    "for wd in list_w :\n",
    "    print(wd)\n",
    "    content = wikipedia.page(wd, auto_suggest=False).content\n",
    "    content_list.append(content)\n"
   ]
  },
  {
   "cell_type": "code",
   "execution_count": 2,
   "id": "119e9ffc",
   "metadata": {},
   "outputs": [],
   "source": [
    "# 形態素解析\n",
    "from janome.tokenizer import Tokenizer\n",
    "t = Tokenizer()\n",
    "\n",
    "def tokenize(text,partof) :\n",
    "    return [token.base_form for token in t.tokenize(text)if token.part_of_speech.split(',')[0] in [partof]]"
   ]
  },
  {
   "cell_type": "code",
   "execution_count": 3,
   "id": "8bb069a9",
   "metadata": {},
   "outputs": [],
   "source": [
    "import re\n",
    "\n",
    "rm_list = ['==', '=', '。', '-', '.', '_', ':', ';', '±', '/', '_','％', '%', '」' , '「', '(', ')', '\\\"', '\\'' , '?']\n",
    "\n",
    "\n",
    "def text_cleaning(pos) :\n",
    "    words_list = []\n",
    "    \n",
    "    for content in content_list : \n",
    "        words = ' '.join(tokenize(content, pos))\n",
    "        \n",
    "        for i in rm_list :\n",
    "            words = words.replace(i, '')    \n",
    "            \n",
    "        words = re.sub('\\d+', '',words)\n",
    "        words = re.sub('[a-z]+', '', words)\n",
    "        words = re.sub('[A-Z]+', '', words)\n",
    "        words_list.append(words)\n",
    "        \n",
    "    for i in range(len(words_list)) :\n",
    "        wl = words_list[i].split()\n",
    "        wl.append(wl)\n",
    "    return wl"
   ]
  },
  {
   "cell_type": "code",
   "execution_count": 4,
   "id": "bbb27013",
   "metadata": {},
   "outputs": [
    {
     "name": "stdout",
     "output_type": "stream",
     "text": [
      "成功しました1\n",
      "10000\n",
      "成功しました2\n",
      "10000\n"
     ]
    }
   ],
   "source": [
    "from random import randint\n",
    "\n",
    "word_cnt1=[]\n",
    "word_cnt2 = []\n",
    "wordNum = 10000\n",
    "\n",
    "wl1 = text_cleaning(\"形容詞\")\n",
    "wl2 = text_cleaning(\"名詞\")\n",
    "\n",
    "while(len(word_cnt1)<  wordNum) :\n",
    "    \n",
    "    # -1で良いはずだが、たまにエラーになるので-2\n",
    "    idx1 = randint(0,len(wl1)-2)\n",
    "    if wl1[idx1]!=\"%\" and len(wl1[idx1])>=2 :\n",
    "        word_cnt1.append(wl1[idx1])\n",
    "    \n",
    "while(len(word_cnt2)<  wordNum) :\n",
    "    idx2 =randint(0,len(wl2)-2)\n",
    "    if wl2[idx2]!=\"%\" and len(wl2[idx2])>= 2 :\n",
    "        word_cnt2.append(wl2[idx2])\n",
    "       \n",
    "    \n",
    "with open(\"Adjective.txt\", \"w\") as f :\n",
    "    for i in word_cnt1 :\n",
    "        f.write(i)\n",
    "        f.write(',')\n",
    "    print(\"成功しました1\")\n",
    "    print(len(word_cnt1))\n",
    "\n",
    "with open(\"Noun.txt\", \"w\") as f :\n",
    "    for i in word_cnt2 :\n",
    "        f.write(i)\n",
    "        f.write(',')\n",
    "    print(\"成功しました2\")\n",
    "    print(len(word_cnt2))\n",
    "        \n",
    "# 出力 (ランダムな名詞と形容詞の組み合わせ)\n",
    "#for con_word in word_cnt :\n",
    "    #print(con_word)\n"
   ]
  },
  {
   "cell_type": "code",
   "execution_count": null,
   "id": "f5745de1",
   "metadata": {},
   "outputs": [],
   "source": []
  }
 ],
 "metadata": {
  "kernelspec": {
   "display_name": "Python 3 (ipykernel)",
   "language": "python",
   "name": "python3"
  },
  "language_info": {
   "codemirror_mode": {
    "name": "ipython",
    "version": 3
   },
   "file_extension": ".py",
   "mimetype": "text/x-python",
   "name": "python",
   "nbconvert_exporter": "python",
   "pygments_lexer": "ipython3",
   "version": "3.9.16"
  }
 },
 "nbformat": 4,
 "nbformat_minor": 5
}
