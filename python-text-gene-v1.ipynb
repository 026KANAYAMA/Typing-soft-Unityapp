{
 "cells": [
  {
   "cell_type": "code",
   "execution_count": 1,
   "id": "cfc49c99",
   "metadata": {},
   "outputs": [
    {
     "name": "stdout",
     "output_type": "stream",
     "text": [
      "日本\n",
      "静岡県\n",
      "数学\n",
      "プログラミング\n",
      "経済\n",
      "小説\n",
      "ローマ\n"
     ]
    }
   ],
   "source": [
    "# データ取得\n",
    "import wikipedia\n",
    "wikipedia.set_lang(\"ja\")\n",
    "\n",
    "list_w = ['日本', '静岡県', '数学', 'プログラミング', '経済', '小説', 'ローマ']\n",
    "\n",
    "content_list = []\n",
    "for wd in list_w :\n",
    "    print(wd)\n",
    "    content = wikipedia.page(wd, auto_suggest=False).content\n",
    "    content_list.append(content)"
   ]
  },
  {
   "cell_type": "code",
   "execution_count": 2,
   "id": "119e9ffc",
   "metadata": {},
   "outputs": [],
   "source": [
    "# 形態素解析\n",
    "from janome.tokenizer import Tokenizer\n",
    "t = Tokenizer()\n",
    "\n",
    "def tokenize(text,partof) :\n",
    "    return [token.base_form for token in t.tokenize(text)if token.part_of_speech.split(',')[0] in [partof]]"
   ]
  },
  {
   "cell_type": "code",
   "execution_count": 6,
   "id": "8bb069a9",
   "metadata": {},
   "outputs": [],
   "source": [
    "import re\n",
    "\n",
    "rm_list = ['==', '=', '。', '-', '.', '_', ':', ';', '±', '/', '_','％', '%', '」' , '「', '(', ')' ]\n",
    "\n",
    "\n",
    "def text_cleaning(pos) :\n",
    "    words_list = []\n",
    "    \n",
    "    for content in content_list : \n",
    "        words = ' '.join(tokenize(content, pos))\n",
    "        \n",
    "        for i in rm_list :\n",
    "            words = words.replace(i, '')    \n",
    "            \n",
    "        words = re.sub('\\d+', '',words)\n",
    "        words_list.append(words)\n",
    "        \n",
    "    for i in range(len(words_list)) :\n",
    "        wl = words_list[i].split()\n",
    "        wl.append(wl)\n",
    "    return wl"
   ]
  },
  {
   "cell_type": "code",
   "execution_count": 15,
   "id": "bbb27013",
   "metadata": {},
   "outputs": [
    {
     "name": "stdout",
     "output_type": "stream",
     "text": [
      "多い猛烈\n",
      "ふさわしい政治\n",
      "美しいフィウミチーノ\n",
      "おもいもの\n",
      "狭い歴史\n",
      "多い産業\n",
      "多い手段\n",
      "早い各国\n",
      "狭い発表\n",
      "大きいもと\n",
      "美しい同年\n",
      "早いローマ\n",
      "やすい卸売\n",
      "おもいとも\n",
      "無い道路\n",
      "珍しいムッソリーニ\n",
      "早いサイト\n",
      "ふさわしい世界\n",
      "美しいエウル\n",
      "数少ない金融\n",
      "大きいこれら\n"
     ]
    }
   ],
   "source": [
    "from random import randint\n",
    "\n",
    "word_cnt=[]\n",
    "wordNum = 20\n",
    "\n",
    "wl1 = text_cleaning(\"形容詞\")\n",
    "wl2 = text_cleaning(\"名詞\")\n",
    "\n",
    "while(len(word_cnt)<= wordNum) :\n",
    "    \n",
    "    # -1で良いはずだが、たまにエラーになるので-2\n",
    "    idx1 = randint(0,len(wl1)-2)\n",
    "    idx2 =randint(0,len(wl2)-2)\n",
    "    \n",
    "    if wl1[idx1]!=\"%\" and len(wl1[idx1])>=2 :\n",
    "        if wl2[idx2]!=\"%\" and len(wl2[idx2])>= 2 :\n",
    "            word_cnt.append(wl1[idx1]+wl2[idx2])\n",
    "\n",
    "# 出力 (ランダムな名詞と形容詞の組み合わせ)\n",
    "for con_word in word_cnt :\n",
    "    print(con_word)\n"
   ]
  }
 ],
 "metadata": {
  "kernelspec": {
   "display_name": "Python 3 (ipykernel)",
   "language": "python",
   "name": "python3"
  },
  "language_info": {
   "codemirror_mode": {
    "name": "ipython",
    "version": 3
   },
   "file_extension": ".py",
   "mimetype": "text/x-python",
   "name": "python",
   "nbconvert_exporter": "python",
   "pygments_lexer": "ipython3",
   "version": "3.9.16"
  }
 },
 "nbformat": 4,
 "nbformat_minor": 5
}
